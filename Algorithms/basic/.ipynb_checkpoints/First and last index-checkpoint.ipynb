{
 "cells": [
  {
   "cell_type": "markdown",
   "metadata": {
    "graffitiCellId": "id_pr3r54a"
   },
   "source": [
    "## Problem statement\n",
    "\n",
    "Given a sorted array that may have duplicate values, use *binary search* to find the **first** and **last** indexes of a given value.\n",
    "\n",
    "For example, if you have the array `[0, 1, 2, 2, 3, 3, 3, 4, 5, 6]` and the given value is `3`, the answer will be `[4, 6]` (because the value `3` occurs first at index `4` and last at index `6` in the array).\n",
    "\n",
    "The expected complexity of the problem is $O(log(n))$."
   ]
  },
  {
   "cell_type": "code",
   "execution_count": 22,
   "metadata": {
    "graffitiCellId": "id_stslkm6"
   },
   "outputs": [],
   "source": [
    "def first_and_last_index(arr, number):\n",
    "    return [find_first(arr, number), find_last(arr, number)]\n",
    "#     if find_first(arr, number) is not None:\n",
    "#         return [find_first(arr, number), find_last(arr, number)]\n",
    "#     else:\n",
    "#         return None\n",
    "    \n",
    "    \n",
    "def find_first(arr, number):   \n",
    "    if len(arr) == 0:\n",
    "        return -1\n",
    "    \n",
    "    start = 0 \n",
    "    end = len(arr) - 1\n",
    "    \n",
    "    while start < end:\n",
    "        mid = int((start + end)/2)\n",
    "\n",
    "        if arr[mid] == number:\n",
    "            end = mid\n",
    "        elif arr[mid] > number:\n",
    "            end = mid - 1\n",
    "        else:\n",
    "            start = mid + 1\n",
    "    \n",
    "    if arr[end] == number:\n",
    "        return end\n",
    "    else:\n",
    "        return -1\n",
    "\n",
    "def find_last(arr, number):   \n",
    "    if len(arr) == 0:\n",
    "        return -1\n",
    "    \n",
    "    start = 0 \n",
    "    end = len(arr) - 1\n",
    "    \n",
    "    while start < end:\n",
    "        mid = int((start + end)/2)\n",
    "\n",
    "        if arr[mid] == number:\n",
    "            start = mid\n",
    "        elif arr[mid] < number:\n",
    "            start = mid + 1\n",
    "        else:\n",
    "            end = mid - 1\n",
    "    \n",
    "    if arr[start] == number:\n",
    "        return start\n",
    "    else:\n",
    "        return -1"
   ]
  },
  {
   "cell_type": "markdown",
   "metadata": {
    "graffitiCellId": "id_y3lxp1x"
   },
   "source": [
    "<span class=\"graffiti-highlight graffiti-id_y3lxp1x-id_fkngaks\"><i></i><button>Show Solution</button></span>"
   ]
  },
  {
   "cell_type": "markdown",
   "metadata": {
    "graffitiCellId": "id_ii2o0tq"
   },
   "source": [
    "Below are several different test cases you can use to check your solution."
   ]
  },
  {
   "cell_type": "code",
   "execution_count": 17,
   "metadata": {
    "graffitiCellId": "id_a8bxvyg"
   },
   "outputs": [],
   "source": [
    "def test_function(test_case):\n",
    "    input_list = test_case[0]\n",
    "    number = test_case[1]\n",
    "    solution = test_case[2]\n",
    "    output = first_and_last_index(input_list, number)\n",
    "    if output == solution:\n",
    "        print(\"Pass\")\n",
    "    else:\n",
    "        print(\"Fail\")"
   ]
  },
  {
   "cell_type": "code",
   "execution_count": 18,
   "metadata": {
    "graffitiCellId": "id_20phd4q"
   },
   "outputs": [
    {
     "name": "stdout",
     "output_type": "stream",
     "text": [
      "Pass\n"
     ]
    }
   ],
   "source": [
    "input_list = [1]\n",
    "number = 1\n",
    "solution = [0, 0]\n",
    "test_case_1 = [input_list, number, solution]\n",
    "test_function(test_case_1)"
   ]
  },
  {
   "cell_type": "code",
   "execution_count": 19,
   "metadata": {
    "graffitiCellId": "id_9p3166p"
   },
   "outputs": [
    {
     "name": "stdout",
     "output_type": "stream",
     "text": [
      "Pass\n"
     ]
    }
   ],
   "source": [
    "input_list = [0, 1, 2, 3, 3, 3, 3, 4, 5, 6]\n",
    "number = 3\n",
    "solution = [3, 6]\n",
    "test_case_2 = [input_list, number, solution]\n",
    "test_function(test_case_2)"
   ]
  },
  {
   "cell_type": "code",
   "execution_count": 20,
   "metadata": {
    "graffitiCellId": "id_pcvcepp"
   },
   "outputs": [
    {
     "name": "stdout",
     "output_type": "stream",
     "text": [
      "Pass\n"
     ]
    }
   ],
   "source": [
    "input_list = [0, 1, 2, 3, 4, 5]\n",
    "number = 5\n",
    "solution = [5, 5]\n",
    "test_case_3 = [input_list, number, solution]\n",
    "test_function(test_case_3)"
   ]
  },
  {
   "cell_type": "code",
   "execution_count": 21,
   "metadata": {
    "graffitiCellId": "id_cz075rp"
   },
   "outputs": [
    {
     "name": "stdout",
     "output_type": "stream",
     "text": [
      "Pass\n"
     ]
    }
   ],
   "source": [
    "input_list = [0, 1, 2, 3, 4, 5]\n",
    "number = 6\n",
    "solution = [-1, -1]\n",
    "test_case_4 = [input_list, number, solution]\n",
    "test_function(test_case_4)"
   ]
  },
  {
   "cell_type": "code",
   "execution_count": null,
   "metadata": {
    "graffitiCellId": "id_fy909sf"
   },
   "outputs": [],
   "source": []
  }
 ],
 "metadata": {
  "graffiti": {
   "firstAuthorId": "dev",
   "id": "id_qwr7xir",
   "language": "EN"
  },
  "kernelspec": {
   "display_name": "Python 3",
   "language": "python",
   "name": "python3"
  }
 },
 "nbformat": 4,
 "nbformat_minor": 2
}

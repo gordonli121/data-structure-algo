{
 "cells": [
  {
   "cell_type": "markdown",
   "metadata": {
    "graffitiCellId": "id_486zult"
   },
   "source": [
    "### Problem statement\n",
    "\n",
    "Given an `input_list` and a `target`, return the indices of pair of integers in the list that sum to the target. The best solution takes O(n) time. You can assume that the list does not have any duplicates.\n",
    "\n",
    "For e.g. `input_list = [1, 5, 9, 7]` and `target = 8`, the answer would be `[0, 3]` "
   ]
  },
  {
   "cell_type": "code",
   "execution_count": 12,
   "metadata": {
    "graffitiCellId": "id_fq96qkf"
   },
   "outputs": [],
   "source": [
    "def pair_sum_to_zero(input_list, target):\n",
    "    # TODO: Write pair sum to zero function\n",
    "    dic = {}\n",
    "    for index, num in enumerate(input_list):\n",
    "        if dic.get(num) != None:\n",
    "            return [dic[num], index]\n",
    "        else:\n",
    "            dic[target-num] = index\n",
    "            print(dic)\n",
    "            \n",
    "    return None"
   ]
  },
  {
   "cell_type": "code",
   "execution_count": 13,
   "metadata": {
    "graffitiCellId": "id_umqrz5z"
   },
   "outputs": [
    {
     "name": "stdout",
     "output_type": "stream",
     "text": [
      "1\n",
      "2\n",
      "3\n",
      "4\n"
     ]
    }
   ],
   "source": [
    "input_list = [1,2,3,4]\n",
    "for num, index in enumerate(input_list):\n",
    "    print(index)"
   ]
  },
  {
   "cell_type": "code",
   "execution_count": 14,
   "metadata": {
    "graffitiCellId": "id_gxkqfwu"
   },
   "outputs": [],
   "source": [
    "def test_function(test_case):\n",
    "    output = pair_sum_to_zero(test_case[0], test_case[1])\n",
    "    print(output)\n",
    "    if sorted(output) == test_case[2]:\n",
    "        print(\"Pass\")\n",
    "    else:\n",
    "        print(\"Fail\")"
   ]
  },
  {
   "cell_type": "code",
   "execution_count": 15,
   "metadata": {
    "graffitiCellId": "id_fqo2ly7"
   },
   "outputs": [
    {
     "name": "stdout",
     "output_type": "stream",
     "text": [
      "{7: 0}\n",
      "{7: 0, 3: 1}\n",
      "{7: 0, 3: 1, -1: 2}\n",
      "[0, 3]\n",
      "Pass\n"
     ]
    }
   ],
   "source": [
    "test_case_1 = [[1, 5, 9, 7], 8, [0, 3]]\n",
    "test_function(test_case_1)"
   ]
  },
  {
   "cell_type": "code",
   "execution_count": 16,
   "metadata": {
    "graffitiCellId": "id_38rw3d3"
   },
   "outputs": [
    {
     "name": "stdout",
     "output_type": "stream",
     "text": [
      "{6: 0}\n",
      "{6: 0, 11: 1}\n",
      "{6: 0, 11: 1, 7: 2}\n",
      "{6: 0, 11: 1, 7: 2, 8: 3}\n",
      "{6: 0, 11: 1, 7: 2, 8: 3, 4: 4}\n",
      "{6: 0, 11: 1, 7: 2, 8: 3, 4: 4, 15: 5}\n",
      "{6: 0, 11: 1, 7: 2, 8: 3, 4: 4, 15: 5, 0: 6}\n",
      "[0, 7]\n",
      "Pass\n"
     ]
    }
   ],
   "source": [
    "test_case_2 = [[10, 5, 9, 8, 12, 1, 16, 6], 16, [0, 7]]\n",
    "test_function(test_case_2)"
   ]
  },
  {
   "cell_type": "code",
   "execution_count": 17,
   "metadata": {
    "graffitiCellId": "id_lrl4kfz"
   },
   "outputs": [
    {
     "name": "stdout",
     "output_type": "stream",
     "text": [
      "{-4: 0}\n",
      "{-4: 0, -5: 1}\n",
      "{-4: 0, -5: 1, -6: 2}\n",
      "{-4: 0, -5: 1, -6: 2, -7: 3}\n",
      "[0, 4]\n",
      "Pass\n"
     ]
    }
   ],
   "source": [
    "test_case_3 = [[0, 1, 2, 3, -4], -4, [0, 4]]\n",
    "test_function(test_case_3)"
   ]
  },
  {
   "cell_type": "markdown",
   "metadata": {
    "graffitiCellId": "id_snm0ke6"
   },
   "source": [
    "<span class=\"graffiti-highlight graffiti-id_snm0ke6-id_tv0tye7\"><i></i><button>Hide Solution</button></span>"
   ]
  },
  {
   "cell_type": "code",
   "execution_count": null,
   "metadata": {
    "graffitiCellId": "id_tv0tye7"
   },
   "outputs": [],
   "source": [
    "def pair_sum_to_zero(input_list, target):\n",
    "    index_dict = dict()\n",
    "    for index, element in enumerate(input_list):\n",
    "        if target - element in index_dict:\n",
    "            return [index_dict[target - element], index]\n",
    "        index_dict[element] = index\n",
    "        \n"
   ]
  }
 ],
 "metadata": {
  "graffiti": {
   "firstAuthorId": "10694620118",
   "id": "id_vvgwoq6",
   "language": "EN"
  },
  "kernelspec": {
   "display_name": "Python 3",
   "language": "python",
   "name": "python3"
  },
  "language_info": {
   "codemirror_mode": {
    "name": "ipython",
    "version": 3
   },
   "file_extension": ".py",
   "mimetype": "text/x-python",
   "name": "python",
   "nbconvert_exporter": "python",
   "pygments_lexer": "ipython3",
   "version": "3.6.3"
  }
 },
 "nbformat": 4,
 "nbformat_minor": 2
}
